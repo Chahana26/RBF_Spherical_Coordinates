{
 "cells": [
  {
   "cell_type": "code",
   "execution_count": 21,
   "id": "250acba3-6238-4e00-887d-0bf590813931",
   "metadata": {},
   "outputs": [
    {
     "name": "stdout",
     "output_type": "stream",
     "text": [
      "Using matplotlib backend: TkAgg\n"
     ]
    }
   ],
   "source": [
    "import numpy as np\n",
    "import scipy.io as sio\n",
    "import matplotlib.pyplot as plt\n",
    "from mpl_toolkits.mplot3d import Axes3D\n",
    "from drawnow import drawnow\n",
    "\n",
    "%matplotlib \n",
    "\n"
   ]
  },
  {
   "cell_type": "markdown",
   "id": "158f08ad-31b3-4104-a375-c9840b23e0b3",
   "metadata": {},
   "source": [
    "## problem 1 - Advection of scalar field over the sphere at an angle $\\alpha$\n"
   ]
  },
  {
   "cell_type": "markdown",
   "id": "22556f77-3c1e-40a7-a88e-7cb78111429f",
   "metadata": {},
   "source": [
    "### Constants in the problem "
   ]
  },
  {
   "cell_type": "code",
   "execution_count": 2,
   "id": "27e43ab4-2900-4cc4-bc09-3cb9a3b6c3da",
   "metadata": {},
   "outputs": [],
   "source": [
    "\n",
    "ep = 6  ## optimal value of eps chosen for initial cosin bell condition refer pg 13/26 of the paper\n",
    "alpha = np.pi/2  ## taken as flowing right over the poles: so as to compare with other methods, since error is max at poles\n",
    "a = 6.37122e6  ## radius of earth\n",
    "u0 = 2*np.pi*a/12  ## given in the pde qestion\n",
    "R = a/3  ## defined in text - refer intial conditions "
   ]
  },
  {
   "cell_type": "markdown",
   "id": "f87ff13a-8eb4-4642-b9b7-69d15ec4a694",
   "metadata": {},
   "source": [
    "### Node Distribution"
   ]
  },
  {
   "cell_type": "code",
   "execution_count": 3,
   "id": "92f3c6b4-bdda-4316-a1cd-bebde257bbaf",
   "metadata": {},
   "outputs": [],
   "source": [
    "# Load nodes  - node distribution based on electrostatic repulsion \n",
    "me1849 = np.loadtxt('me42.1849')\n",
    "x = me1849[:,0]\n",
    "y = me1849[:,1]\n",
    "z = me1849[:,2]\n",
    "\n",
    "sz = 10\n",
    "plt.figure(1)\n",
    "plt.scatter(x, y, s=sz, c='k', alpha=0.5)\n",
    "plt.title('ME1849 nodes distribution on the surface of a unit sphere')\n",
    "plt.show()"
   ]
  },
  {
   "cell_type": "markdown",
   "id": "d9ea523a-ef18-4ff7-8e5a-0bc10cbf0585",
   "metadata": {},
   "source": [
    "### Compute $r^2 = (x_j - x_k)^2 + (y_j - y_k)^2 + (z_j - z_k)^2$  "
   ]
  },
  {
   "cell_type": "code",
   "execution_count": 4,
   "id": "97230e02-5d12-4408-94b9-df514f64f753",
   "metadata": {},
   "outputs": [
    {
     "name": "stdout",
     "output_type": "stream",
     "text": [
      "3.999998257778941\n"
     ]
    }
   ],
   "source": [
    "\"\"\"\n",
    "This computes the euclidean distance between each node and all the other nodes ; \n",
    "Thus this is a symmetric matrix of size is 1849 * 1849 with all the diagonal elements = 0\n",
    "\"\"\"\n",
    "nodes = np.column_stack((x,y,z))\n",
    "rd2 = np.zeros((len(nodes), len(nodes)))\n",
    "for j in range(3):\n",
    "    xd1 = nodes[:,j].reshape(-1, 1)\n",
    "    xd2 = xd1.T\n",
    "    rd2 += (xd1 - xd2)**2\n",
    "    \n",
    "    \n",
    "print(rd2.max())    "
   ]
  },
  {
   "cell_type": "markdown",
   "id": "107effb2-8727-4397-b188-2964d19f5309",
   "metadata": {},
   "source": [
    "### Set up a 2D surface grids in $(\\theta,\\phi)$ for computing B"
   ]
  },
  {
   "cell_type": "code",
   "execution_count": 5,
   "id": "cc39147e-77ba-4ef5-a253-1d1648548d1e",
   "metadata": {},
   "outputs": [],
   "source": [
    "# In text theta = larutude ; lamda = longitude ; here theta = latitude phi = longitude\n",
    "theta = np.arctan2(z, np.sqrt(x**2 + y**2))  ## so for each x,y,z node point so there are 1849 values of theta that is latitude value taken from the equator \n",
    "phi = np.arctan2(y, x)  ## similarly there are 1849 values of phi i.e. the values of longitude\n",
    "tn = np.tile(theta, (len(x), 1))    ## this makes a 1849 * 1849 matrix where each row is the same and looks exactly like theta ; thus all the columns will have the same value \n",
    "tc = tn.T  ## this is just the transpose of tn; therefore all the rows have one value of theta repeated 1849 times\n",
    "pn = np.tile(phi, (len(phi), 1))   ## similar to tn but phi values \n",
    "pc = pn.T   ## similr to tc and has all rows equal to one ohi value repeated 1849 times"
   ]
  },
  {
   "cell_type": "markdown",
   "id": "90ceefc8-71ee-4be3-86f3-9a202ad14fb3",
   "metadata": {},
   "source": [
    "### Compute differentiation matrix D  "
   ]
  },
  {
   "cell_type": "code",
   "execution_count": 20,
   "id": "4d501170-1609-4c43-b699-6f953c77d363",
   "metadata": {},
   "outputs": [
    {
     "name": "stdout",
     "output_type": "stream",
     "text": [
      "2.157053377021666\n"
     ]
    }
   ],
   "source": [
    "#exactly as given in the paper only theta i,j = tn,tc and lambda i,j = pn,pc\n",
    "#np.cos(alpha)*np.cos(tn)*np.cos(tc)*np.sin(pn-pc) +np.sin(alpha)*(np.cos(tn)*np.cos(pn)*np.sin(tc) - np.cos(tc)*np.cos(pc)*np.sin(tn))\n",
    "#((((np.cos(tc)*np.sin(pn-pc))*(np.cos(tn)*np.cos(alpha)+np.sin(tn)*np.cos(pn)*np.sin(alpha)))/(np.cos(tn)))+(-np.sin(pn)*np.sin(alpha)) * (np.cos(tc)*np.sin(tn)*np.cos(pn-pc)  -  np.sin(tc)*np.cos(tn)))\n",
    "\n",
    "t = tn\n",
    "tn = tc\n",
    "tc = t\n",
    "ep = 6\n",
    "\n",
    "B = np.cos(alpha)*np.cos(tn)*np.cos(tc)*np.sin(pn-pc) +np.sin(alpha)*(np.cos(tn)*np.cos(pn)*np.sin(tc) - np.cos(tc)*np.cos(pc)*np.sin(tn))\n",
    "B = 2*(ep**2)*(u0/a)*B*np.exp(-(ep**2)*rd2)\n",
    "\n",
    "print(B[57,6])"
   ]
  },
  {
   "cell_type": "code",
   "execution_count": 22,
   "id": "a6e4c1d7-c88d-4ec2-a92d-65d981b79f4d",
   "metadata": {},
   "outputs": [
    {
     "name": "stdout",
     "output_type": "stream",
     "text": [
      "6.258946083907489\n",
      "[[1.00000000e+00 4.32438611e-11 4.06274111e-37 ... 3.44199850e-56\n",
      "  1.12432753e-59 4.46168361e-63]\n",
      " [4.32438611e-11 1.00000000e+00 2.44372734e-27 ... 2.56027783e-39\n",
      "  1.06867346e-39 2.97851096e-50]\n",
      " [4.06274111e-37 2.44372734e-27 1.00000000e+00 ... 1.63023287e-38\n",
      "  9.81196148e-22 3.79662147e-26]\n",
      " ...\n",
      " [3.44199850e-56 2.56027783e-39 1.63023287e-38 ... 1.00000000e+00\n",
      "  2.02374037e-05 2.00444815e-06]\n",
      " [1.12432753e-59 1.06867346e-39 9.81196148e-22 ... 2.02374037e-05\n",
      "  1.00000000e+00 6.45153036e-03]\n",
      " [4.46168361e-63 2.97851096e-50 3.79662147e-26 ... 2.00444815e-06\n",
      "  6.45153036e-03 1.00000000e+00]]\n"
     ]
    }
   ],
   "source": [
    "A = np.exp(-ep**2*rd2)\n",
    "A_inv = np.linalg.inv(A)\n",
    "D = np.matmul(B,A_inv)\n",
    "print(D.max())\n",
    "\n",
    "\n",
    "print(A)"
   ]
  },
  {
   "cell_type": "markdown",
   "id": "06c69394-6f4f-4014-af8f-ac47f6aafa36",
   "metadata": {},
   "source": [
    "### Initial Condition = Cosine bell"
   ]
  },
  {
   "cell_type": "code",
   "execution_count": 23,
   "id": "e8a0f6c3-0261-4529-a861-5e518beb34da",
   "metadata": {},
   "outputs": [
    {
     "name": "stdout",
     "output_type": "stream",
     "text": [
      "1849\n"
     ]
    }
   ],
   "source": [
    "# Initial Condition Cosine Bell\n",
    "r = a*np.arccos(np.cos(theta)*np.cos(phi))    ## as defined in text\n",
    "h = 1000/2*(1 + np.cos(np.pi*r/R))   ## as defined in text \n",
    "h[r >= R] = 0  ## as defined in text\n",
    "\n",
    "## making sure there are non zero values of h initially print(np.nonzero(h))\n",
    "h_initial = h\n",
    "\n",
    "print(h.size)"
   ]
  },
  {
   "cell_type": "markdown",
   "id": "3d0f06b4-b7e8-4c9e-ba92-3b85d49b5f51",
   "metadata": {},
   "source": [
    "### 3D plot to compare with text"
   ]
  },
  {
   "cell_type": "code",
   "execution_count": 24,
   "id": "09c1b642-fa11-4960-8a90-3109a0df431d",
   "metadata": {},
   "outputs": [],
   "source": [
    "fig = plt.figure(2)\n",
    "ax = fig.add_subplot(111, projection='3d')\n",
    "# Plot initial condition\n",
    "ax.scatter(phi, theta, h, c=h, cmap='viridis')\n",
    "# Set axis labels\n",
    "ax.set_xlabel('$\\lambda$')\n",
    "ax.set_ylabel(r'$\\theta$')\n",
    "ax.set_zlabel('h')\n",
    "plt.title('Initial Condition - Cosine Bell')\n",
    "plt.show()"
   ]
  },
  {
   "cell_type": "markdown",
   "id": "c4762d53-46d9-49ce-a4b8-7f3608d02717",
   "metadata": {},
   "source": [
    "### Time-Stepping - 4th Order RK - 50 minute time step"
   ]
  },
  {
   "cell_type": "code",
   "execution_count": 25,
   "id": "90d1ba2e-bbf8-40ae-95ff-dd3126e4d6ff",
   "metadata": {},
   "outputs": [],
   "source": [
    "dt = 12/288*5/6 ## Time-Step for 12 days revolution (50 imnutes in terms of days)\n",
    "h_rk = h\n",
    "\n",
    "for nt in range(2, 1*288*6//5 +1):\n",
    "    d1 = dt*D.dot(h_rk)\n",
    "    d2 = dt*D.dot(h_rk + 0.5*d1)\n",
    "    d3 = dt*D.dot(h_rk + 0.5*d2)\n",
    "    d4 = dt*D.dot(h_rk + d3)\n",
    "    h_rk = h_rk + 1/6*(d1 + 2*d2 + 2*d3 + d4)"
   ]
  },
  {
   "cell_type": "markdown",
   "id": "a26fd1d0-f8ef-47af-967a-81b350c1d6df",
   "metadata": {},
   "source": [
    "### 3D plot for better visualization"
   ]
  },
  {
   "cell_type": "code",
   "execution_count": 26,
   "id": "a8a8ed95-1274-48b2-8a10-771f6f9d8ef1",
   "metadata": {},
   "outputs": [],
   "source": [
    "fig = plt.figure(8)\n",
    "ax = fig.add_subplot(111, projection='3d')\n",
    "# Plot initial condition\n",
    "ax.scatter(phi, theta, h_rk, c=h, cmap='viridis')\n",
    "# Set axis labels\n",
    "ax.set_xlabel(r'$\\lambda$')\n",
    "ax.set_ylabel(r'$\\theta$')\n",
    "ax.set_zlabel('h')\n",
    "plt.title('Cosine bell,RBF solution after 12 days')\n",
    "plt.show()"
   ]
  },
  {
   "cell_type": "markdown",
   "id": "9612aa8d-83ac-418f-b4da-ea1ca542f4d8",
   "metadata": {},
   "source": [
    "### Comparison with analytical solution "
   ]
  },
  {
   "cell_type": "code",
   "execution_count": 27,
   "id": "c02ee0c8-c9d8-48b2-a9ee-f2668f3040f1",
   "metadata": {},
   "outputs": [],
   "source": [
    "fig = plt.figure(9)\n",
    "ax = fig.add_subplot(111, projection='3d')\n",
    "# Plot initial condition\n",
    "ax.scatter(phi, theta, h_rk, c=\"y\", label = \"numerical solution\")\n",
    "ax.scatter(phi, theta, h,c = \"b\", label = \"analytical solution\")\n",
    "# Set axis labels\n",
    "ax.set_xlabel('phi')\n",
    "ax.set_ylabel('theta')\n",
    "ax.set_zlabel('h')\n",
    "plt.legend()\n",
    "plt.show()"
   ]
  },
  {
   "cell_type": "markdown",
   "id": "ecbe7e19-7a95-4e12-a809-43f3427fb371",
   "metadata": {},
   "source": [
    "### Initial Condition = Exceptionally steep gaussian profile\n"
   ]
  },
  {
   "cell_type": "code",
   "execution_count": 28,
   "id": "5cf38a22-7e8c-4cd9-90dd-19b2089d615a",
   "metadata": {},
   "outputs": [
    {
     "name": "stdout",
     "output_type": "stream",
     "text": [
      "6.258946083907489\n"
     ]
    }
   ],
   "source": [
    "ep = 6\n",
    "\n",
    "B2 = np.cos(alpha)*np.cos(tn)*np.cos(tc)*np.sin(pn-pc) +np.sin(alpha)*(np.cos(tn)*np.cos(pn)*np.sin(tc) - np.cos(tc)*np.cos(pc)*np.sin(tn))\n",
    "B2 = 2*(ep**2)*(u0/a)*B2*np.exp(-(ep**2)*rd2)\n",
    "\n",
    "A2 = np.exp(-ep**2*rd2)\n",
    "A_inv2 = np.linalg.inv(A2)\n",
    "\n",
    "D2 = np.matmul(B2,A_inv2)\n",
    "print(D2.max())"
   ]
  },
  {
   "cell_type": "code",
   "execution_count": 29,
   "id": "903b7ed9-68d0-4fa9-86b3-7ef71b091321",
   "metadata": {},
   "outputs": [
    {
     "name": "stdout",
     "output_type": "stream",
     "text": [
      "1849\n"
     ]
    }
   ],
   "source": [
    "# Initial Condition Cosine Bell\n",
    "r = a*np.arccos(np.cos(theta)*np.cos(phi))    ## as defined in text\n",
    "h_gaussian = 1000*np.exp(-((1*2.25*r/R)**2))   ## as defined in text \n",
    "\n",
    "## making sure there are non zero values of h initially print(np.nonzero(h))\n",
    "h_initial = h_gaussian\n",
    "\n",
    "print(h_gaussian.size)"
   ]
  },
  {
   "cell_type": "markdown",
   "id": "0ec9a41d-25ec-4fd7-8d7e-044fee0c1bf1",
   "metadata": {},
   "source": [
    "### 3D plot to compare with text"
   ]
  },
  {
   "cell_type": "code",
   "execution_count": 30,
   "id": "fc1774f2-dde9-429b-81e2-b54190737e22",
   "metadata": {},
   "outputs": [],
   "source": [
    "\n",
    "fig = plt.figure(11)\n",
    "ax = fig.add_subplot(111, projection='3d')\n",
    "# Plot initial condition\n",
    "cax = ax.scatter(phi, theta, h_gaussian, c=h, cmap='cividis')\n",
    "# Set axis labels\n",
    "ax.set_xlabel(r'$\\lambda$')\n",
    "ax.set_ylabel(r'$\\theta$')\n",
    "ax.set_zlabel('h')\n",
    "plt.title('Initial Condition - Gaussian Bell')\n",
    "plt.show()"
   ]
  },
  {
   "cell_type": "markdown",
   "id": "b1391d71-fb27-4cdc-b8bf-30e8a39d2870",
   "metadata": {},
   "source": [
    "### Time-Stepping - 4th Order RK - 50 minute time step"
   ]
  },
  {
   "cell_type": "code",
   "execution_count": 31,
   "id": "30a0213d-013e-4d33-84de-b67494f24f67",
   "metadata": {},
   "outputs": [
    {
     "name": "stdout",
     "output_type": "stream",
     "text": [
      "984.188215229473\n",
      "991.570869600357\n"
     ]
    }
   ],
   "source": [
    "dt = 12/288*5/6 ## Time-Step for 12 days revolution (50 imnutes in terms of days)\n",
    "h_rk2 = h_gaussian\n",
    "\n",
    "for nt in range(2, 1*288*6//5 + 1):\n",
    "    d1 = dt*D2.dot(h_rk2)\n",
    "    d2 = dt*D2.dot(h_rk2 + 0.5*d1)\n",
    "    d3 = dt*D2.dot(h_rk2 + 0.5*d2)\n",
    "    d4 = dt*D2.dot(h_rk2 + d3)\n",
    "    h_rk2 = h_rk2 + 1/6*(d1 + 2*d2 + 2*d3 + d4)\n",
    "      \n",
    "print(h_gaussian.max()) \n",
    "print(h_rk2.max())"
   ]
  },
  {
   "cell_type": "markdown",
   "id": "f0cd3d32-adf5-41d0-b927-4e8baf8217de",
   "metadata": {},
   "source": [
    "### 3D plot for better visualization"
   ]
  },
  {
   "cell_type": "code",
   "execution_count": 32,
   "id": "2100b742-1da8-484e-a913-f0fe467a968e",
   "metadata": {},
   "outputs": [],
   "source": [
    "\n",
    "fig = plt.figure(12)\n",
    "ax = fig.add_subplot(111, projection='3d')\n",
    "# Plot initial condition\n",
    "ax.scatter(phi, theta, h_rk2, c=h, cmap='cividis')\n",
    "# Set axis labels\n",
    "ax.set_xlabel(r'$\\lambda$')\n",
    "ax.set_ylabel(r'$\\theta$')\n",
    "ax.set_zlabel('h')\n",
    "plt.title('Gaussian bell, RBF solution after 12 days')\n",
    "plt.savefig('gs.png')\n",
    "plt.show()"
   ]
  },
  {
   "cell_type": "code",
   "execution_count": 34,
   "id": "ad3b6d27-efa6-46a5-80b7-02ec8727c1f1",
   "metadata": {},
   "outputs": [],
   "source": [
    "fig = plt.figure(13)\n",
    "ax = fig.add_subplot(111, projection='3d')\n",
    "# Plot initial condition\n",
    "ax.scatter(phi, theta, h_gaussian - h_rk2, c= 'mediumblue')\n",
    "ax.scatter(phi, theta, h - h_rk, c= 'orangered')\n",
    "# Set axis labels\n",
    "ax.set_xlabel(r'$\\lambda$')\n",
    "ax.set_ylabel(r'$\\theta$')\n",
    "ax.set_zlabel('h')\n",
    "plt.title('Error (exact - numerical)')\n",
    "plt.savefig('error.png')\n",
    "plt.show()"
   ]
  },
  {
   "cell_type": "markdown",
   "id": "b3eff6e1-89d5-49d2-8cbe-e81254e158ff",
   "metadata": {},
   "source": [
    "### Comparison with analytical solution "
   ]
  },
  {
   "cell_type": "code",
   "execution_count": 47,
   "id": "52c81456-0697-4513-aaf3-6f58a4c25162",
   "metadata": {},
   "outputs": [],
   "source": [
    "# Data for the box plot\n",
    "data = [h_gaussian - h_rk2, h - h_rk]\n",
    "\n",
    "# Create a figure and axes\n",
    "fig, ax = plt.subplots()\n",
    "\n",
    "# Create the box plot\n",
    "ax.boxplot(data)\n",
    "\n",
    "# Set the labels\n",
    "ax.set_xticklabels(['Gaussia: Exact - Numerical', 'Cosine : Exact - Numerical'])\n",
    "ax.set_ylabel('Error')\n",
    "\n",
    "# Set the title\n",
    "plt.title('Box Plot of Errors')\n",
    "\n",
    "# Display the plot\n",
    "plt.show()"
   ]
  },
  {
   "cell_type": "code",
   "execution_count": 43,
   "id": "edd276db-4ee6-40f1-a03d-6c55e9b5b00c",
   "metadata": {},
   "outputs": [],
   "source": [
    "import matplotlib.pyplot as plt\n",
    "\n",
    "# Data for the histogram\n",
    "data = h_gaussian - h_rk2\n",
    "\n",
    "# Create a figure and axes\n",
    "fig, ax = plt.subplots()\n",
    "\n",
    "# Create the histogram\n",
    "ax.hist(data, bins=35)\n",
    "\n",
    "# Set the labels\n",
    "ax.set_xlabel('Error')\n",
    "ax.set_ylabel('Frequency')\n",
    "\n",
    "# Set the title\n",
    "plt.title('Histogram of Errors')\n",
    "\n",
    "# Display the plot\n",
    "plt.show()\n"
   ]
  },
  {
   "cell_type": "code",
   "execution_count": 51,
   "id": "5a7913f5-47d3-425b-9125-1d06a714319b",
   "metadata": {},
   "outputs": [],
   "source": [
    "# Data for the contour plot\n",
    "X = phi\n",
    "Y = theta\n",
    "Z = h - h_rk  # Error data\n",
    "\n",
    "# Create a figure and axes\n",
    "fig, ax = plt.subplots()\n",
    "\n",
    "# Create the contour plot\n",
    "contour = ax.tricontourf(X, Y, Z, cmap='magma')\n",
    "\n",
    "# Add a colorbar\n",
    "cbar = plt.colorbar(contour)\n",
    "\n",
    "# Set the labels\n",
    "ax.set_xlabel(r'$\\lambda$')\n",
    "ax.set_ylabel(r'$\\theta$')\n",
    "cbar.set_label('Error')\n",
    "\n",
    "# Set the title\n",
    "plt.title('Contour Plot of Errors')\n",
    "\n",
    "# Display the plot\n",
    "plt.show()"
   ]
  },
  {
   "cell_type": "code",
   "execution_count": 52,
   "id": "19a4e4c4-db65-4e3e-ac9d-043481f9967e",
   "metadata": {},
   "outputs": [
    {
     "name": "stderr",
     "output_type": "stream",
     "text": [
      "invalid command name \"139624647421504delayed_destroy\"\n",
      "    while executing\n",
      "\"139624647421504delayed_destroy\"\n",
      "    (\"after\" script)\n",
      "invalid command name \"139624684588672delayed_destroy\"\n",
      "    while executing\n",
      "\"139624684588672delayed_destroy\"\n",
      "    (\"after\" script)\n",
      "invalid command name \"139624650958784delayed_destroy\"\n",
      "    while executing\n",
      "\"139624650958784delayed_destroy\"\n",
      "    (\"after\" script)\n",
      "invalid command name \"139624647026176delayed_destroy\"\n",
      "    while executing\n",
      "\"139624647026176delayed_destroy\"\n",
      "    (\"after\" script)\n"
     ]
    }
   ],
   "source": [
    "import matplotlib.pyplot as plt\n",
    "\n",
    "# Data for the histograms\n",
    "data1 = h - h_rk\n",
    "data2 = h_gaussian - h_rk2\n",
    "\n",
    "# Create a figure and axes\n",
    "fig, (ax1, ax2) = plt.subplots(1, 2, figsize=(10, 4))\n",
    "\n",
    "# Create the histograms\n",
    "ax1.hist(data1, bins=10)\n",
    "ax2.hist(data2, bins=10)\n",
    "\n",
    "# Set the labels for the first subplot\n",
    "ax1.set_xlabel('Error')\n",
    "ax1.set_ylabel('Frequency')\n",
    "ax1.set_title('Cosine bell')\n",
    "\n",
    "# Set the labels for the second subplot\n",
    "ax2.set_xlabel('Error')\n",
    "ax2.set_ylabel('Frequency')\n",
    "ax2.set_title('Gaussian bell')\n",
    "\n",
    "# Adjust the spacing between subplots\n",
    "plt.tight_layout()\n",
    "\n",
    "# Display the plot\n",
    "#plt.title('Error (exact - Numerical)')\n",
    "plt.show()"
   ]
  },
  {
   "cell_type": "code",
   "execution_count": 35,
   "id": "1b007897-54a4-420e-8adb-235838f7ad90",
   "metadata": {},
   "outputs": [],
   "source": [
    "fig = plt.figure(14)\n",
    "ax = fig.add_subplot(111, projection='3d')\n",
    "# Plot initial condition\n",
    "ax.scatter(phi, theta, h_rk2, c=\"y\", label = \"numerical solution for gaussian\")\n",
    "ax.scatter(phi, theta, h_gaussian,c = \"black\", label = \"analytical solution for gaussin\")\n",
    "ax.scatter(phi, theta, h_rk, c=\"g\", label = \"numerical solution for cosine bell\")\n",
    "ax.scatter(phi, theta, h,c = \"r\", label = \"analytical solution for cosine bell\")\n",
    "# Set axis labels\n",
    "ax.set_xlabel('phi')\n",
    "ax.set_ylabel('theta')\n",
    "ax.set_zlabel('h')\n",
    "plt.legend()\n",
    "plt.show()"
   ]
  }
 ],
 "metadata": {
  "kernelspec": {
   "display_name": "Python 3 (ipykernel)",
   "language": "python",
   "name": "python3"
  },
  "language_info": {
   "codemirror_mode": {
    "name": "ipython",
    "version": 3
   },
   "file_extension": ".py",
   "mimetype": "text/x-python",
   "name": "python",
   "nbconvert_exporter": "python",
   "pygments_lexer": "ipython3",
   "version": "3.11.3"
  }
 },
 "nbformat": 4,
 "nbformat_minor": 5
}
